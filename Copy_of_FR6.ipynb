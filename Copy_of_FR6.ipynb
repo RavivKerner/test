{
  "nbformat": 4,
  "nbformat_minor": 0,
  "metadata": {
    "colab": {
      "name": "Copy of FR6.ipynb",
      "provenance": [],
      "collapsed_sections": [],
      "authorship_tag": "ABX9TyO/LAr+ERRSghIp9UA1zF5n",
      "include_colab_link": true
    },
    "kernelspec": {
      "name": "python3",
      "display_name": "Python 3"
    },
    "language_info": {
      "name": "python"
    }
  },
  "cells": [
    {
      "cell_type": "markdown",
      "metadata": {
        "id": "view-in-github",
        "colab_type": "text"
      },
      "source": [
        "<a href=\"https://colab.research.google.com/github/RavivKerner/test/blob/working/Copy_of_FR6.ipynb\" target=\"_parent\"><img src=\"https://colab.research.google.com/assets/colab-badge.svg\" alt=\"Open In Colab\"/></a>"
      ]
    },
    {
      "cell_type": "code",
      "metadata": {
        "colab": {
          "base_uri": "https://localhost:8080/"
        },
        "id": "dchkCwRxKwdf",
        "outputId": "508930cb-7a29-4ac4-cfe4-cc0e39cf0610"
      },
      "source": [
        "!pip install -Uqq fastbook"
      ],
      "execution_count": 1,
      "outputs": [
        {
          "output_type": "stream",
          "name": "stdout",
          "text": [
            "\u001b[K     |████████████████████████████████| 720 kB 6.8 MB/s \n",
            "\u001b[K     |████████████████████████████████| 46 kB 4.5 MB/s \n",
            "\u001b[K     |████████████████████████████████| 1.2 MB 44.2 MB/s \n",
            "\u001b[K     |████████████████████████████████| 189 kB 46.3 MB/s \n",
            "\u001b[K     |████████████████████████████████| 56 kB 5.6 MB/s \n",
            "\u001b[K     |████████████████████████████████| 51 kB 392 kB/s \n",
            "\u001b[?25h"
          ]
        }
      ]
    },
    {
      "cell_type": "code",
      "metadata": {
        "id": "PDT8rJazLAwk"
      },
      "source": [
        "import fastbook"
      ],
      "execution_count": 2,
      "outputs": []
    },
    {
      "cell_type": "code",
      "metadata": {
        "id": "DFSSMMdUkH8i"
      },
      "source": [
        "fastbook.setup_book()"
      ],
      "execution_count": null,
      "outputs": []
    },
    {
      "cell_type": "code",
      "metadata": {
        "id": "3R_DGTQlLLXW"
      },
      "source": [
        "from fastbook import *"
      ],
      "execution_count": 13,
      "outputs": []
    },
    {
      "cell_type": "markdown",
      "metadata": {
        "id": "Q_uWwnwl5P4l"
      },
      "source": [
        "Key Loss func & matrics by fastai "
      ]
    },
    {
      "cell_type": "code",
      "metadata": {
        "id": "xxG4HQv85eZm"
      },
      "source": [
        "#Regression : \n",
        "#MSE for loss and matric"
      ],
      "execution_count": null,
      "outputs": []
    },
    {
      "cell_type": "code",
      "metadata": {
        "id": "KilQQBfu5llp"
      },
      "source": [
        "#Classification:"
      ],
      "execution_count": null,
      "outputs": []
    },
    {
      "cell_type": "code",
      "metadata": {
        "id": "1_4gfF1b5wVf"
      },
      "source": [
        "# Binary:"
      ],
      "execution_count": null,
      "outputs": []
    },
    {
      "cell_type": "code",
      "metadata": {
        "id": "TKogZtXmgyKX"
      },
      "source": [
        "def Binary_cls_loss(preds,y):\n",
        "  preds = sigmoid(preds)\n",
        "  return torch.where(y==1, y-preds, preds).mean()\n",
        "\n",
        "def Binary_metric_accuracy(preds, y, threshhold=0.5):\n",
        "  pred_accuracy = (sigmoid(preds)>threshhold)\n",
        "  return (pred_accuracy==y).float().mean()\n"
      ],
      "execution_count": 6,
      "outputs": []
    },
    {
      "cell_type": "code",
      "metadata": {
        "id": "tQLeok3O3LGt"
      },
      "source": [
        "def mnist_loss(predictions, targets):\n",
        "    predictions = predictions.sigmoid()\n",
        "    return torch.where(targets==1, 1-predictions, predictions).mean()\n",
        "\n",
        "def batch_accuracy(xb, yb):\n",
        "    preds = xb.sigmoid()\n",
        "    correct = (preds>0.5) == yb\n",
        "    return correct.float().mean()"
      ],
      "execution_count": 7,
      "outputs": []
    },
    {
      "cell_type": "code",
      "metadata": {
        "id": "a14pmA7vuSLt"
      },
      "source": [
        "preds = tensor([ 9.4077, -1.3319,  9.3460,  5.9358])\n",
        "y = tensor([1, 1, 0, 0])"
      ],
      "execution_count": 14,
      "outputs": []
    },
    {
      "cell_type": "code",
      "metadata": {
        "colab": {
          "base_uri": "https://localhost:8080/"
        },
        "id": "jRBDe7WX5xPL",
        "outputId": "b5ff0a7f-2573-44b7-e730-47854d5b6fc4"
      },
      "source": [
        "Binary_cls_loss(preds, y), mnist_loss(preds, y)"
      ],
      "execution_count": 9,
      "outputs": [
        {
          "output_type": "execute_result",
          "data": {
            "text/plain": [
              "(tensor(0.6971), tensor(0.6971))"
            ]
          },
          "metadata": {},
          "execution_count": 9
        }
      ]
    },
    {
      "cell_type": "code",
      "metadata": {
        "id": "YujN440Nvlk_"
      },
      "source": [
        "preds = tensor([[ 9.4077, -1.3319],  [9.3460,  5.9358],[9.3460,  5.9358], [9.3460,  5.9358] ])"
      ],
      "execution_count": 11,
      "outputs": []
    },
    {
      "cell_type": "code",
      "metadata": {
        "colab": {
          "base_uri": "https://localhost:8080/"
        },
        "id": "BQQVWbwQuzia",
        "outputId": "644328a6-92ff-4fd0-aaf1-c932b956964c"
      },
      "source": [
        "F.cross_entropy(preds,y) #will not work becuase in class he build calssifiers give only onr resoult "
      ],
      "execution_count": 12,
      "outputs": [
        {
          "output_type": "execute_result",
          "data": {
            "text/plain": [
              "tensor(3.5618)"
            ]
          },
          "metadata": {},
          "execution_count": 12
        }
      ]
    },
    {
      "cell_type": "code",
      "metadata": {
        "colab": {
          "base_uri": "https://localhost:8080/"
        },
        "id": "khh2xwMJ6Ay9",
        "outputId": "f768370d-3542-4340-cf9c-368a8513873b"
      },
      "source": [
        "Binary_metric_accuracy(preds,y), batch_accuracy(preds,y)"
      ],
      "execution_count": 15,
      "outputs": [
        {
          "output_type": "execute_result",
          "data": {
            "text/plain": [
              "(tensor(0.2500), tensor(0.2500))"
            ]
          },
          "metadata": {},
          "execution_count": 15
        }
      ]
    },
    {
      "cell_type": "code",
      "metadata": {
        "id": "y2eMP_nAg72O"
      },
      "source": [
        "#NDidnt mention names (send F.cross_entropy at final example)"
      ],
      "execution_count": null,
      "outputs": []
    },
    {
      "cell_type": "code",
      "metadata": {
        "id": "xB7UmrdWhAA9"
      },
      "source": [
        "#multi class"
      ],
      "execution_count": null,
      "outputs": []
    },
    {
      "cell_type": "code",
      "metadata": {
        "id": "jSufc0DohF8g"
      },
      "source": [
        "def softmaxp1(preds):\n",
        "  sume = np.exp(preds).sum(1)\n",
        "  # sume.reshape((len(preds),1))\n",
        "  return np.exp(preds)/sume.reshape((len(preds),1))\n",
        "\n",
        "def multi_c_loss(preds, y):\n",
        "  soft = softmaxp1(preds)\n",
        "  softcon = np.log(soft)*-1\n",
        "  idx = range(len(y))\n",
        "  return softcon[idx, y].mean()\n",
        "\n",
        "def multi_accuracy(preds, y):\n",
        "  to_C = preds.argmax(1)\n",
        "  return (to_C==y).float().mean()\n",
        "\n"
      ],
      "execution_count": 26,
      "outputs": []
    },
    {
      "cell_type": "code",
      "metadata": {
        "id": "0_C7h47InhVy"
      },
      "source": [
        "def softmax(x): return np.exp(x) / np.exp(x).sum(dim=1, keepdim=True)"
      ],
      "execution_count": 30,
      "outputs": []
    },
    {
      "cell_type": "code",
      "metadata": {
        "id": "SAeigwM_okx6"
      },
      "source": [
        "def softmax(x): return np.exp(x) / np.exp(x).sum(dim=1, keepdim=True)\n",
        "\n",
        "F.nll_loss(sm_acts, targ, reduction='none') #negative log likelihood (but it asumed you already took the log...)\n",
        "#(its because pytorch desgin log_softmax function which take soft_max and log together)\n",
        "#the 'reduction = None ' io show per row and not average, by default all loss function in Pytorch takes the mean\n",
        "\n",
        "F.cross_entropy(acts, targ) #softmax+negative log likelihood\n",
        "# which, in practice, actually does log_softmax and then nll_loss"
      ],
      "execution_count": null,
      "outputs": []
    },
    {
      "cell_type": "code",
      "metadata": {
        "id": "4TkSKnwmq7tF"
      },
      "source": [
        "y = tensor([0, 1, 1, 2, 3])"
      ],
      "execution_count": 20,
      "outputs": []
    },
    {
      "cell_type": "code",
      "metadata": {
        "id": "HwTXon1tonVP"
      },
      "source": [
        "preds =tensor([[8.8227, 9.1500, 3.8286, 9.5931],\n",
        "        [3.9045, 6.0090, 2.5657, 7.9364],\n",
        "        [9.4077, 1.3319, 9.3460, 5.9358],\n",
        "        [8.6940, 5.6772, 7.4109, 4.2940],\n",
        "        [8.8544, 5.7390, 2.6658, 6.2745]])"
      ],
      "execution_count": 22,
      "outputs": []
    },
    {
      "cell_type": "code",
      "metadata": {
        "colab": {
          "base_uri": "https://localhost:8080/"
        },
        "id": "WysganxjMlvb",
        "outputId": "c7e09f4b-8739-498d-9fd4-622d280373c3"
      },
      "source": [
        "F.nll_loss(preds, y, reduction='none') #negative log likelihood (but it asumed you already took the log...)\n",
        "#(its because pytorch degin log_softmax function which take soft_max and log together)"
      ],
      "execution_count": 23,
      "outputs": [
        {
          "output_type": "execute_result",
          "data": {
            "text/plain": [
              "tensor([-8.8227, -6.0090, -1.3319, -7.4109, -6.2745])"
            ]
          },
          "metadata": {},
          "execution_count": 23
        }
      ]
    },
    {
      "cell_type": "code",
      "metadata": {
        "id": "gnytunMIPvhk"
      },
      "source": [
        "loss_func_nn = nn.CrossEntropyLoss(reduction='none')"
      ],
      "execution_count": 24,
      "outputs": []
    },
    {
      "cell_type": "code",
      "metadata": {
        "colab": {
          "base_uri": "https://localhost:8080/"
        },
        "id": "dxmkU3Q-rJFK",
        "outputId": "82abdd61-5dd7-4cb2-df15-e6c64829190a"
      },
      "source": [
        "multi_c_loss(multipredsf, y), F.cross_entropy(multipredsf,y), loss_func_nn(multipredsf,y) #dont work directly like F"
      ],
      "execution_count": 27,
      "outputs": [
        {
          "output_type": "execute_result",
          "data": {
            "text/plain": [
              "(tensor(3.3246),\n",
              " tensor(3.3246),\n",
              " tensor([1.5161, 2.0826, 8.7546, 1.5746, 2.6952]))"
            ]
          },
          "metadata": {},
          "execution_count": 27
        }
      ]
    },
    {
      "cell_type": "code",
      "metadata": {
        "colab": {
          "base_uri": "https://localhost:8080/"
        },
        "id": "ys0bkZbro942",
        "outputId": "c84728aa-5463-4003-9e84-394ed829aa7a"
      },
      "source": [
        "softmax(preds) == softmaxp1(preds)"
      ],
      "execution_count": 31,
      "outputs": [
        {
          "output_type": "execute_result",
          "data": {
            "text/plain": [
              "tensor([[True, True, True, True],\n",
              "        [True, True, True, True],\n",
              "        [True, True, True, True],\n",
              "        [True, True, True, True],\n",
              "        [True, True, True, True]])"
            ]
          },
          "metadata": {},
          "execution_count": 31
        }
      ]
    },
    {
      "cell_type": "code",
      "metadata": {
        "id": "BEfNXuwKhk45"
      },
      "source": [
        "#how to sofmax of multiple array (sum and divide row by row)V\n",
        "#name of all functionsV\n",
        "#didnt show accuracy function"
      ],
      "execution_count": null,
      "outputs": []
    },
    {
      "cell_type": "code",
      "metadata": {
        "id": "jKEAgwegaYOp"
      },
      "source": [
        ""
      ],
      "execution_count": null,
      "outputs": []
    },
    {
      "cell_type": "code",
      "metadata": {
        "id": "lGuYRRG2hlwp"
      },
      "source": [
        "#Multi label"
      ],
      "execution_count": null,
      "outputs": []
    },
    {
      "cell_type": "code",
      "metadata": {
        "id": "ad2GVgOCholS"
      },
      "source": [
        "def multi_l_loss(preds, y):\n",
        "  sig = sigmoid(preds)\n",
        "  dist = (sig-y).abs()\n",
        "  return -np.log(1-dist).mean()\n",
        "\n",
        "def multi_l_accuracy(preds, y, th=0.5):\n",
        "  sig_preds = sigmoid(preds)\n",
        "  bin_conv = (sig_preds>th).float()\n",
        "  return (bin_conv==y).float().mean()"
      ],
      "execution_count": 5,
      "outputs": []
    },
    {
      "cell_type": "code",
      "metadata": {
        "id": "RDVzaoi7arCl"
      },
      "source": [
        "#####best to make a table out of it\n",
        "\n",
        "# F.binary_cross_entropy and its module equivalent nn.BCELoss calculate cross-entropy on a one-hot-encoded target, but do not include the initial sigmoid\n",
        "# F.binary_cross_entropy_with_logits (or nn.BCEWithLogitsLoss) include sigmoid \n",
        "\n",
        "# The equivalent for single-label datasets (like MNIST or the Pet dataset), where the target is encoded as a single integer,\n",
        "#  is F.nll_loss or nn.NLLLoss for the version without the initial softmax, \n",
        "#  and F.cross_entropy or nn.CrossEntropyLoss for the version with the initial softmax.\n",
        "\n",
        "def accuracy_multi(inp, targ, thresh=0.5, sigmoid=True):\n",
        "    \"Compute accuracy when `inp` and `targ` are the same size.\"\n",
        "    inp = sigmoid(inp)\n",
        "    targ = targ.bool()\n",
        "    return ((inp>thresh)==targ).float().mean()"
      ],
      "execution_count": 10,
      "outputs": []
    },
    {
      "cell_type": "code",
      "metadata": {
        "id": "DEJU-2C1arLw"
      },
      "source": [
        "preds =tensor([[8.8227, 9.1500, 3.8286, 9.5931],\n",
        "        [3.9045, 6.0090, 2.5657, 7.9364],\n",
        "        [9.4077, 1.3319, 9.3460, 5.9358],\n",
        "        [8.6940, 5.6772, 7.4109, 4.2940],\n",
        "        [8.8544, 5.7390, 2.6658, 6.2745]])\n",
        "\n",
        "y =tensor([[1, 0, 0, 0],\n",
        "        [1, 1, 0, 0],\n",
        "        [0, 0, 0, 0],\n",
        "        [0, 0, 0, 1],\n",
        "        [0, 1, 1, 1]])"
      ],
      "execution_count": 11,
      "outputs": []
    },
    {
      "cell_type": "code",
      "metadata": {
        "colab": {
          "base_uri": "https://localhost:8080/"
        },
        "id": "NFjuwZNomJ_R",
        "outputId": "9c51d149-7858-4132-8a27-43753966ca6d"
      },
      "source": [
        "y.dtype #standart pytorch wont work, need to change to float"
      ],
      "execution_count": 29,
      "outputs": [
        {
          "output_type": "execute_result",
          "data": {
            "text/plain": [
              "torch.int64"
            ]
          },
          "metadata": {},
          "execution_count": 29
        }
      ]
    },
    {
      "cell_type": "code",
      "metadata": {
        "colab": {
          "base_uri": "https://localhost:8080/"
        },
        "id": "f9JlWdmAkwnB",
        "outputId": "e59f3ddb-2467-42b3-a2fb-c744e1c3bb35"
      },
      "source": [
        "preds"
      ],
      "execution_count": 17,
      "outputs": [
        {
          "output_type": "execute_result",
          "data": {
            "text/plain": [
              "tensor([[8.8227, 9.1500, 3.8286, 9.5931],\n",
              "        [3.9045, 6.0090, 2.5657, 7.9364],\n",
              "        [9.4077, 1.3319, 9.3460, 5.9358],\n",
              "        [8.6940, 5.6772, 7.4109, 4.2940],\n",
              "        [8.8544, 5.7390, 2.6658, 6.2745]])"
            ]
          },
          "metadata": {},
          "execution_count": 17
        }
      ]
    },
    {
      "cell_type": "code",
      "metadata": {
        "id": "ROxbm2e0lHk2"
      },
      "source": [
        ""
      ],
      "execution_count": null,
      "outputs": []
    },
    {
      "cell_type": "code",
      "metadata": {
        "id": "TZmiRLXjwgdb"
      },
      "source": [
        "lss = nn.BCEWithLogitsLoss()"
      ],
      "execution_count": 26,
      "outputs": []
    },
    {
      "cell_type": "code",
      "metadata": {
        "colab": {
          "base_uri": "https://localhost:8080/"
        },
        "id": "UlpFP6twwp39",
        "outputId": "6996c1f0-5e01-4d49-8a88-cedad739b7cf"
      },
      "source": [
        "multi_l_loss(preds,y), lss(preds,y.float())"
      ],
      "execution_count": 27,
      "outputs": [
        {
          "output_type": "execute_result",
          "data": {
            "text/plain": [
              "(tensor(4.5089), tensor(4.5089))"
            ]
          },
          "metadata": {},
          "execution_count": 27
        }
      ]
    },
    {
      "cell_type": "code",
      "metadata": {
        "colab": {
          "base_uri": "https://localhost:8080/"
        },
        "id": "R7TtnJkKxWGI",
        "outputId": "46cc7081-830b-46b9-f0fd-567034479bc9"
      },
      "source": [
        "accuracy_multi(preds, y), multi_l_accuracy(preds, y)"
      ],
      "execution_count": 28,
      "outputs": [
        {
          "output_type": "execute_result",
          "data": {
            "text/plain": [
              "(TensorBase(0.3500), tensor(0.3500))"
            ]
          },
          "metadata": {},
          "execution_count": 28
        }
      ]
    },
    {
      "cell_type": "code",
      "metadata": {
        "colab": {
          "base_uri": "https://localhost:8080/",
          "height": 305
        },
        "id": "a-x8r3RYxPSj",
        "outputId": "602e3f99-8835-48ad-d3ad-ef2ab798ba69"
      },
      "source": [
        "F.binary_cross_entropy_with_logits(preds,y)"
      ],
      "execution_count": 42,
      "outputs": [
        {
          "output_type": "error",
          "ename": "RuntimeError",
          "evalue": "ignored",
          "traceback": [
            "\u001b[0;31m---------------------------------------------------------------------------\u001b[0m",
            "\u001b[0;31mRuntimeError\u001b[0m                              Traceback (most recent call last)",
            "\u001b[0;32m<ipython-input-42-f1b49aa95af6>\u001b[0m in \u001b[0;36m<module>\u001b[0;34m()\u001b[0m\n\u001b[0;32m----> 1\u001b[0;31m \u001b[0mF\u001b[0m\u001b[0;34m.\u001b[0m\u001b[0mbinary_cross_entropy_with_logits\u001b[0m\u001b[0;34m(\u001b[0m\u001b[0mpreds\u001b[0m\u001b[0;34m,\u001b[0m\u001b[0my\u001b[0m\u001b[0;34m)\u001b[0m\u001b[0;34m\u001b[0m\u001b[0;34m\u001b[0m\u001b[0m\n\u001b[0m",
            "\u001b[0;32m/usr/local/lib/python3.7/dist-packages/torch/nn/functional.py\u001b[0m in \u001b[0;36mbinary_cross_entropy_with_logits\u001b[0;34m(input, target, weight, size_average, reduce, reduction, pos_weight)\u001b[0m\n\u001b[1;32m   2980\u001b[0m         \u001b[0;32mraise\u001b[0m \u001b[0mValueError\u001b[0m\u001b[0;34m(\u001b[0m\u001b[0;34m\"Target size ({}) must be the same as input size ({})\"\u001b[0m\u001b[0;34m.\u001b[0m\u001b[0mformat\u001b[0m\u001b[0;34m(\u001b[0m\u001b[0mtarget\u001b[0m\u001b[0;34m.\u001b[0m\u001b[0msize\u001b[0m\u001b[0;34m(\u001b[0m\u001b[0;34m)\u001b[0m\u001b[0;34m,\u001b[0m \u001b[0minput\u001b[0m\u001b[0;34m.\u001b[0m\u001b[0msize\u001b[0m\u001b[0;34m(\u001b[0m\u001b[0;34m)\u001b[0m\u001b[0;34m)\u001b[0m\u001b[0;34m)\u001b[0m\u001b[0;34m\u001b[0m\u001b[0;34m\u001b[0m\u001b[0m\n\u001b[1;32m   2981\u001b[0m \u001b[0;34m\u001b[0m\u001b[0m\n\u001b[0;32m-> 2982\u001b[0;31m     \u001b[0;32mreturn\u001b[0m \u001b[0mtorch\u001b[0m\u001b[0;34m.\u001b[0m\u001b[0mbinary_cross_entropy_with_logits\u001b[0m\u001b[0;34m(\u001b[0m\u001b[0minput\u001b[0m\u001b[0;34m,\u001b[0m \u001b[0mtarget\u001b[0m\u001b[0;34m,\u001b[0m \u001b[0mweight\u001b[0m\u001b[0;34m,\u001b[0m \u001b[0mpos_weight\u001b[0m\u001b[0;34m,\u001b[0m \u001b[0mreduction_enum\u001b[0m\u001b[0;34m)\u001b[0m\u001b[0;34m\u001b[0m\u001b[0;34m\u001b[0m\u001b[0m\n\u001b[0m\u001b[1;32m   2983\u001b[0m \u001b[0;34m\u001b[0m\u001b[0m\n\u001b[1;32m   2984\u001b[0m \u001b[0;34m\u001b[0m\u001b[0m\n",
            "\u001b[0;31mRuntimeError\u001b[0m: result type Float can't be cast to the desired output type Long"
          ]
        }
      ]
    },
    {
      "cell_type": "code",
      "metadata": {
        "id": "bfW0S0QVMfEV"
      },
      "source": [
        "pdb.set_trace()\n",
        "multi_l_accuracy(multipredsf,y)"
      ],
      "execution_count": null,
      "outputs": []
    },
    {
      "cell_type": "code",
      "metadata": {
        "id": "c6FWogCTV-x0"
      },
      "source": [
        "from fastai.vision.all import *"
      ],
      "execution_count": 9,
      "outputs": []
    },
    {
      "cell_type": "code",
      "metadata": {
        "id": "V7voYdw1XtlC"
      },
      "source": [
        "import pdb"
      ],
      "execution_count": null,
      "outputs": []
    },
    {
      "cell_type": "code",
      "metadata": {
        "colab": {
          "base_uri": "https://localhost:8080/"
        },
        "id": "O9yEspRYNsxp",
        "outputId": "e07d6a1a-a6f8-45b5-ade1-38d1ad4066c7"
      },
      "source": [
        "# pdb.set_trace()\n",
        "accuracy_multi(multipredsf,y)"
      ],
      "execution_count": null,
      "outputs": [
        {
          "output_type": "execute_result",
          "data": {
            "text/plain": [
              "TensorBase(0.3500)"
            ]
          },
          "metadata": {},
          "execution_count": 12
        }
      ]
    },
    {
      "cell_type": "code",
      "metadata": {
        "id": "obWWeF10WM4Q"
      },
      "source": [
        "accuracy_multi??"
      ],
      "execution_count": null,
      "outputs": []
    },
    {
      "cell_type": "code",
      "metadata": {
        "id": "36slYwlQWeYI"
      },
      "source": [
        "flatten_check??"
      ],
      "execution_count": null,
      "outputs": []
    },
    {
      "cell_type": "code",
      "metadata": {
        "colab": {
          "base_uri": "https://localhost:8080/"
        },
        "id": "URzZcYo2OFC0",
        "outputId": "b4e4c1bc-10cb-444d-b8c6-11eb3d72f82a"
      },
      "source": [
        "((inp>0.5)==y.bool()).float().mean()"
      ],
      "execution_count": null,
      "outputs": [
        {
          "output_type": "execute_result",
          "data": {
            "text/plain": [
              "tensor(0.3500)"
            ]
          },
          "metadata": {},
          "execution_count": 24
        }
      ]
    },
    {
      "cell_type": "code",
      "metadata": {
        "colab": {
          "base_uri": "https://localhost:8080/"
        },
        "id": "2Np_FAiqN6IV",
        "outputId": "d3f6bc8f-20d5-4107-ac34-8e78c70eba70"
      },
      "source": [
        "inp=sigmoid(multipredsf)\n",
        "inp"
      ],
      "execution_count": null,
      "outputs": [
        {
          "output_type": "execute_result",
          "data": {
            "text/plain": [
              "tensor([[0.9999, 0.9999, 0.9787, 0.9999],\n",
              "        [0.9802, 0.9975, 0.9286, 0.9996],\n",
              "        [0.9999, 0.7912, 0.9999, 0.9974],\n",
              "        [0.9998, 0.9966, 0.9994, 0.9865],\n",
              "        [0.9999, 0.9968, 0.9350, 0.9981]])"
            ]
          },
          "metadata": {},
          "execution_count": 20
        }
      ]
    },
    {
      "cell_type": "code",
      "metadata": {
        "colab": {
          "base_uri": "https://localhost:8080/"
        },
        "id": "WlUBdvi1M_78",
        "outputId": "2043c7c4-59fd-45b2-9c9b-d88c959c410b"
      },
      "source": [
        "y.bool()"
      ],
      "execution_count": null,
      "outputs": [
        {
          "output_type": "execute_result",
          "data": {
            "text/plain": [
              "tensor([[ True, False, False, False],\n",
              "        [ True,  True, False, False],\n",
              "        [False, False, False, False],\n",
              "        [False, False, False,  True],\n",
              "        [False,  True,  True,  True]])"
            ]
          },
          "metadata": {},
          "execution_count": 30
        }
      ]
    },
    {
      "cell_type": "code",
      "metadata": {
        "id": "e_buInqv5yYh"
      },
      "source": [
        "def Binary_cls_loss(preds,y):\n",
        "  preds = sigmoid(preds)\n",
        "  return torch.where(y==1, y-preds, preds).mean()"
      ],
      "execution_count": null,
      "outputs": []
    },
    {
      "cell_type": "code",
      "metadata": {
        "colab": {
          "base_uri": "https://localhost:8080/"
        },
        "id": "Q6kKa3sG8Df7",
        "outputId": "36158a22-d229-4a19-898f-a40d5ce0df42"
      },
      "source": [
        "Binary_cls_loss(randres, y)"
      ],
      "execution_count": null,
      "outputs": [
        {
          "output_type": "execute_result",
          "data": {
            "text/plain": [
              "tensor(0.6971)"
            ]
          },
          "metadata": {},
          "execution_count": 17
        }
      ]
    },
    {
      "cell_type": "code",
      "metadata": {
        "colab": {
          "base_uri": "https://localhost:8080/"
        },
        "id": "k0y0KTyG9F9i",
        "outputId": "7554dfad-b9b9-4bb2-e98b-25c306615141"
      },
      "source": [
        "(sigmoid(randres)-y).abs().mean()"
      ],
      "execution_count": null,
      "outputs": [
        {
          "output_type": "execute_result",
          "data": {
            "text/plain": [
              "tensor(0.6971)"
            ]
          },
          "metadata": {},
          "execution_count": 23
        }
      ]
    },
    {
      "cell_type": "code",
      "metadata": {
        "colab": {
          "base_uri": "https://localhost:8080/",
          "height": 323
        },
        "id": "wV_ZXr8dTy8b",
        "outputId": "ec30fc8b-c1a6-4ea4-9f93-236dce3e9e82"
      },
      "source": [
        "plot_function(sigmoid)"
      ],
      "execution_count": null,
      "outputs": [
        {
          "output_type": "stream",
          "name": "stderr",
          "text": [
            "/usr/local/lib/python3.7/dist-packages/fastbook/__init__.py:74: UserWarning: Not providing a value for linspace's steps is deprecated and will throw a runtime error in a future release. This warning will appear only once per process. (Triggered internally at  /pytorch/aten/src/ATen/native/RangeFactories.cpp:25.)\n",
            "  x = torch.linspace(min,max)\n"
          ]
        },
        {
          "output_type": "display_data",
          "data": {
            "image/png": "[encoded data removed]",
            "text/plain": [
              "<Figure size 432x288 with 1 Axes>"
            ]
          },
          "metadata": {
            "needs_background": "light"
          }
        }
      ]
    },
    {
      "cell_type": "code",
      "metadata": {
        "colab": {
          "base_uri": "https://localhost:8080/",
          "height": 323
        },
        "id": "4YypzEQANV-K",
        "outputId": "4996f0d7-9f7d-47c1-9eac-966467ffaa59"
      },
      "source": [
        "plot_function(torch.log, min=0,max=4)"
      ],
      "execution_count": null,
      "outputs": [
        {
          "output_type": "stream",
          "name": "stderr",
          "text": [
            "/usr/local/lib/python3.7/dist-packages/fastbook/__init__.py:74: UserWarning: Not providing a value for linspace's steps is deprecated and will throw a runtime error in a future release. This warning will appear only once per process. (Triggered internally at  ../aten/src/ATen/native/RangeFactories.cpp:23.)\n",
            "  x = torch.linspace(min,max)\n"
          ]
        },
        {
          "output_type": "display_data",
          "data": {
            "image/png": "[encoded data removed]",
            "text/plain": [
              "<Figure size 432x288 with 1 Axes>"
            ]
          },
          "metadata": {
            "needs_background": "light"
          }
        }
      ]
    },
    {
      "cell_type": "code",
      "metadata": {
        "id": "GvmFU48dTblC"
      },
      "source": [
        "def Binary_metric_accuracy(preds, y, threshhold=0.5):\n",
        "  pred_accuracy = sigmoid(preds)>threshhold\n",
        "  return (pred_accuracy==y).float().mean()\n",
        "\n"
      ],
      "execution_count": null,
      "outputs": []
    },
    {
      "cell_type": "code",
      "metadata": {
        "colab": {
          "base_uri": "https://localhost:8080/"
        },
        "id": "c5VVzO17UK9j",
        "outputId": "0c8d4f8a-7c0d-4ff1-ec45-2cf1472f91af"
      },
      "source": [
        "((sigmoid(preds)>0.5).float()==y).float().mean()"
      ],
      "execution_count": null,
      "outputs": [
        {
          "output_type": "execute_result",
          "data": {
            "text/plain": [
              "tensor(0.2500)"
            ]
          },
          "metadata": {},
          "execution_count": 16
        }
      ]
    },
    {
      "cell_type": "code",
      "metadata": {
        "colab": {
          "base_uri": "https://localhost:8080/"
        },
        "id": "8h_pUKqOVVCT",
        "outputId": "dc5324f5-6d41-45b4-df4d-887aba5c41bf"
      },
      "source": [
        "Binary_metric_accuracy(preds, y)"
      ],
      "execution_count": null,
      "outputs": [
        {
          "output_type": "execute_result",
          "data": {
            "text/plain": [
              "tensor(0.2500)"
            ]
          },
          "metadata": {},
          "execution_count": 18
        }
      ]
    },
    {
      "cell_type": "code",
      "metadata": {
        "id": "cEgrb2iwVbH4"
      },
      "source": [
        "#Names of the torch fuctions???????????????????????????????????? for both of them!!!!!!!!!!!!!!!!!!!!!!!!"
      ],
      "execution_count": null,
      "outputs": []
    },
    {
      "cell_type": "code",
      "metadata": {
        "id": "MGzQoc7LVp9i"
      },
      "source": [
        "#Multi class"
      ],
      "execution_count": null,
      "outputs": []
    },
    {
      "cell_type": "code",
      "metadata": {
        "colab": {
          "base_uri": "https://localhost:8080/"
        },
        "id": "F8tgDlD_Vv1T",
        "outputId": "335a1c0e-68b4-4858-aead-1ae6d1b1286e"
      },
      "source": [
        "y = tensor([1, 2, 2, 3])\n",
        "y"
      ],
      "execution_count": null,
      "outputs": [
        {
          "output_type": "execute_result",
          "data": {
            "text/plain": [
              "tensor([1, 2, 2, 3])"
            ]
          },
          "metadata": {},
          "execution_count": 50
        }
      ]
    },
    {
      "cell_type": "code",
      "metadata": {
        "colab": {
          "base_uri": "https://localhost:8080/"
        },
        "id": "l5uM6FITYVn7",
        "outputId": "59526a9f-a5d2-4edd-8b4c-fcf6dea904ee"
      },
      "source": [
        "preds"
      ],
      "execution_count": null,
      "outputs": [
        {
          "output_type": "execute_result",
          "data": {
            "text/plain": [
              "tensor([ 9.4077, -1.3319,  9.3460,  5.9358])"
            ]
          },
          "metadata": {},
          "execution_count": 8
        }
      ]
    },
    {
      "cell_type": "code",
      "metadata": {
        "id": "PrZyjQKnUQMv"
      },
      "source": [
        "preds2 = tensor([ 9.4077, -1.3319,  2.3460,  3.9358])"
      ],
      "execution_count": null,
      "outputs": []
    },
    {
      "cell_type": "code",
      "metadata": {
        "id": "r5ckZ75CYZvg"
      },
      "source": [
        "def softmaxp1(preds):\n",
        "  sume = np.exp(preds).sum(1)\n",
        "  # sume.reshape((len(preds),1))\n",
        "  return np.exp(preds)/sume.reshape((len(preds),1))"
      ],
      "execution_count": null,
      "outputs": []
    },
    {
      "cell_type": "code",
      "metadata": {
        "id": "zvNjBIoURXfU"
      },
      "source": [
        "multiperds = torch.rand((5,4))*10"
      ],
      "execution_count": null,
      "outputs": []
    },
    {
      "cell_type": "code",
      "metadata": {
        "colab": {
          "base_uri": "https://localhost:8080/"
        },
        "id": "1hs0xolnYckL",
        "outputId": "fe07f94b-038a-4d06-b937-a610e192b470"
      },
      "source": [
        "multiperds"
      ],
      "execution_count": null,
      "outputs": [
        {
          "output_type": "execute_result",
          "data": {
            "text/plain": [
              "tensor([[8.8227, 9.1500, 3.8286, 9.5931],\n",
              "        [3.9045, 6.0090, 2.5657, 7.9364],\n",
              "        [9.4077, 1.3319, 9.3460, 5.9358],\n",
              "        [8.6940, 5.6772, 7.4109, 4.2940],\n",
              "        [8.8544, 5.7390, 2.6658, 6.2745]])"
            ]
          },
          "metadata": {},
          "execution_count": 5
        }
      ]
    },
    {
      "cell_type": "code",
      "metadata": {
        "id": "7UQ8qYIkYQH6"
      },
      "source": [
        "multipredsf =tensor([[8.8227, 9.1500, 3.8286, 9.5931],\n",
        "        [3.9045, 6.0090, 2.5657, 7.9364],\n",
        "        [9.4077, 1.3319, 9.3460, 5.9358],\n",
        "        [8.6940, 5.6772, 7.4109, 4.2940],\n",
        "        [8.8544, 5.7390, 2.6658, 6.2745]])"
      ],
      "execution_count": null,
      "outputs": []
    },
    {
      "cell_type": "code",
      "metadata": {
        "colab": {
          "base_uri": "https://localhost:8080/"
        },
        "id": "XLVrC_Nse5i4",
        "outputId": "0d0045ba-ae33-46a9-ed10-6131e87f2d20"
      },
      "source": [
        "multipredsf"
      ],
      "execution_count": null,
      "outputs": [
        {
          "output_type": "execute_result",
          "data": {
            "text/plain": [
              "tensor([[8.8227, 9.1500, 3.8286, 9.5931],\n",
              "        [3.9045, 6.0090, 2.5657, 7.9364],\n",
              "        [9.4077, 1.3319, 9.3460, 5.9358],\n",
              "        [8.6940, 5.6772, 7.4109, 4.2940],\n",
              "        [8.8544, 5.7390, 2.6658, 6.2745]])"
            ]
          },
          "metadata": {},
          "execution_count": 32
        }
      ]
    },
    {
      "cell_type": "code",
      "metadata": {
        "colab": {
          "base_uri": "https://localhost:8080/"
        },
        "id": "97i3cn5KLtCd",
        "outputId": "116b6585-4981-4a8d-e383-c6d0a7f49c2a"
      },
      "source": [
        "sf = softmaxp1(multipredsf)\n",
        "sf"
      ],
      "execution_count": null,
      "outputs": [
        {
          "output_type": "execute_result",
          "data": {
            "text/plain": [
              "tensor([[2.1956e-01, 3.0457e-01, 1.4881e-03, 4.7438e-01],\n",
              "        [1.5190e-02, 1.2460e-01, 3.9822e-03, 8.5622e-01],\n",
              "        [5.0722e-01, 1.5773e-04, 4.7687e-01, 1.5753e-02],\n",
              "        [7.4715e-01, 3.6579e-02, 2.0709e-01, 9.1731e-03],\n",
              "        [8.9111e-01, 3.9530e-02, 1.8292e-03, 6.7530e-02]])"
            ]
          },
          "metadata": {},
          "execution_count": 33
        }
      ]
    },
    {
      "cell_type": "code",
      "metadata": {
        "colab": {
          "base_uri": "https://localhost:8080/"
        },
        "id": "JStwg2qsN0q-",
        "outputId": "91867262-7e75-40f1-c280-e13a880b2124"
      },
      "source": [
        "logsf = np.log(sf)*-1\n",
        "logsf"
      ],
      "execution_count": null,
      "outputs": [
        {
          "output_type": "execute_result",
          "data": {
            "text/plain": [
              "tensor([[1.5161, 1.1888, 6.5102, 0.7457],\n",
              "        [4.1871, 2.0826, 5.5259, 0.1552],\n",
              "        [0.6788, 8.7546, 0.7405, 4.1507],\n",
              "        [0.2915, 3.3083, 1.5746, 4.6915],\n",
              "        [0.1153, 3.2307, 6.3039, 2.6952]])"
            ]
          },
          "metadata": {},
          "execution_count": 35
        }
      ]
    },
    {
      "cell_type": "code",
      "metadata": {
        "colab": {
          "base_uri": "https://localhost:8080/"
        },
        "id": "gfDHUoFJOBrA",
        "outputId": "d652268d-d12d-4654-a888-1312eecfd952"
      },
      "source": [
        "np.exp(-1.5161)"
      ],
      "execution_count": null,
      "outputs": [
        {
          "output_type": "execute_result",
          "data": {
            "text/plain": [
              "0.21956652877963362"
            ]
          },
          "metadata": {},
          "execution_count": 21
        }
      ]
    },
    {
      "cell_type": "code",
      "metadata": {
        "id": "_Bug0rfoYqq5"
      },
      "source": [
        "y = tensor([0, 1, 1, 2, 3])"
      ],
      "execution_count": null,
      "outputs": []
    },
    {
      "cell_type": "code",
      "metadata": {
        "colab": {
          "base_uri": "https://localhost:8080/"
        },
        "id": "pMsOelxvMMFv",
        "outputId": "e3c9ac77-a984-4dbe-aacf-ef148aa485e6"
      },
      "source": [
        "y"
      ],
      "execution_count": null,
      "outputs": [
        {
          "output_type": "execute_result",
          "data": {
            "text/plain": [
              "tensor([0, 1, 1, 2, 3])"
            ]
          },
          "metadata": {},
          "execution_count": 14
        }
      ]
    },
    {
      "cell_type": "code",
      "metadata": {
        "id": "WQZJfyLmcSFJ"
      },
      "source": [
        "idx = range(len(y))"
      ],
      "execution_count": null,
      "outputs": []
    },
    {
      "cell_type": "code",
      "metadata": {
        "colab": {
          "base_uri": "https://localhost:8080/"
        },
        "id": "xqXWza0-fN_A",
        "outputId": "43a6fa48-e55e-4ab8-c3eb-8738f7863750"
      },
      "source": [
        "logsf[idx,y].mean()"
      ],
      "execution_count": null,
      "outputs": [
        {
          "output_type": "execute_result",
          "data": {
            "text/plain": [
              "tensor(3.3246)"
            ]
          },
          "metadata": {},
          "execution_count": 39
        }
      ]
    },
    {
      "cell_type": "code",
      "metadata": {
        "colab": {
          "base_uri": "https://localhost:8080/"
        },
        "id": "Eh6SzCKZMmx-",
        "outputId": "85a05539-b27c-45b7-9045-dd2ea2254b5e"
      },
      "source": [
        "multipredsf[idx, y].mean(), multipredsf[idx, y]"
      ],
      "execution_count": null,
      "outputs": [
        {
          "output_type": "execute_result",
          "data": {
            "text/plain": [
              "(tensor(5.9698), tensor([8.8227, 6.0090, 1.3319, 7.4109, 6.2745]))"
            ]
          },
          "metadata": {},
          "execution_count": 25
        }
      ]
    },
    {
      "cell_type": "code",
      "metadata": {
        "colab": {
          "base_uri": "https://localhost:8080/"
        },
        "id": "LenC15rTMxxm",
        "outputId": "45a143e7-8515-4335-9295-ec7b7a46ff75"
      },
      "source": [
        "multipredsf"
      ],
      "execution_count": null,
      "outputs": [
        {
          "output_type": "execute_result",
          "data": {
            "text/plain": [
              "tensor([[8.8227, 9.1500, 3.8286, 9.5931],\n",
              "        [3.9045, 6.0090, 2.5657, 7.9364],\n",
              "        [9.4077, 1.3319, 9.3460, 5.9358],\n",
              "        [8.6940, 5.6772, 7.4109, 4.2940],\n",
              "        [8.8544, 5.7390, 2.6658, 6.2745]])"
            ]
          },
          "metadata": {},
          "execution_count": 17
        }
      ]
    },
    {
      "cell_type": "code",
      "metadata": {
        "id": "ovNgV92SNf6q"
      },
      "source": [
        "def multi_c_loss(preds, y):\n",
        "  soft = softmaxp1(preds)\n",
        "  softcon = np.log(soft)*-1\n",
        "  idx = range(len(y))\n",
        "  return softcon[idx, y].mean()\n"
      ],
      "execution_count": null,
      "outputs": []
    },
    {
      "cell_type": "code",
      "metadata": {
        "colab": {
          "base_uri": "https://localhost:8080/"
        },
        "id": "lTbbMQ0qPGSG",
        "outputId": "8307508a-33a1-418d-c289-a08f5eb88aaa"
      },
      "source": [
        "multi_loss(multipredsf, y)"
      ],
      "execution_count": null,
      "outputs": [
        {
          "output_type": "execute_result",
          "data": {
            "text/plain": [
              "tensor(3.3247)"
            ]
          },
          "metadata": {},
          "execution_count": 27
        }
      ]
    },
    {
      "cell_type": "code",
      "metadata": {
        "colab": {
          "base_uri": "https://localhost:8080/"
        },
        "id": "uCPd7tj1SeCe",
        "outputId": "90885f7f-f132-4b81-9d17-33a61f4ea65b"
      },
      "source": [
        "multipredsf"
      ],
      "execution_count": null,
      "outputs": [
        {
          "output_type": "execute_result",
          "data": {
            "text/plain": [
              "tensor([[8.8227, 9.1500, 3.8286, 9.5931],\n",
              "        [3.9045, 6.0090, 2.5657, 7.9364],\n",
              "        [9.4077, 1.3319, 9.3460, 5.9358],\n",
              "        [8.6940, 5.6772, 7.4109, 4.2940],\n",
              "        [8.8544, 5.7390, 2.6658, 6.2745]])"
            ]
          },
          "metadata": {},
          "execution_count": 9
        }
      ]
    },
    {
      "cell_type": "code",
      "metadata": {
        "colab": {
          "base_uri": "https://localhost:8080/"
        },
        "id": "YCH9s64qRuep",
        "outputId": "d0e205a0-6822-4fc7-d5cf-d4b42e326ecf"
      },
      "source": [
        "((multipredsf.argmax(1)==y).float()).mean()"
      ],
      "execution_count": null,
      "outputs": [
        {
          "output_type": "execute_result",
          "data": {
            "text/plain": [
              "tensor(0.)"
            ]
          },
          "metadata": {},
          "execution_count": 15
        }
      ]
    },
    {
      "cell_type": "code",
      "metadata": {
        "id": "ChaLBZ5iRurC"
      },
      "source": [
        "def multi_accuracy(preds, y):\n",
        "  to_C = preds.argmax(1)\n",
        "  return (to_C==y).float().mean()"
      ],
      "execution_count": null,
      "outputs": []
    },
    {
      "cell_type": "code",
      "metadata": {
        "colab": {
          "base_uri": "https://localhost:8080/"
        },
        "id": "RoYJI0P0Ru7_",
        "outputId": "7e359387-4e0a-4814-8bee-17afe3ef2186"
      },
      "source": [
        "multi_accuracy(multipredsf, y)"
      ],
      "execution_count": null,
      "outputs": [
        {
          "output_type": "execute_result",
          "data": {
            "text/plain": [
              "tensor(0.)"
            ]
          },
          "metadata": {},
          "execution_count": 17
        }
      ]
    },
    {
      "cell_type": "code",
      "metadata": {
        "id": "AVfqM8ekT02z"
      },
      "source": [
        "#multi label*********************************"
      ],
      "execution_count": null,
      "outputs": []
    },
    {
      "cell_type": "code",
      "metadata": {
        "colab": {
          "base_uri": "https://localhost:8080/"
        },
        "id": "IHUGExG-UEmd",
        "outputId": "4211a861-53c2-4e81-cff0-e22133c041ff"
      },
      "source": [
        "multipredsf =tensor([[8.8227, 9.1500, 3.8286, 9.5931],\n",
        "        [3.9045, 6.0090, 2.5657, 7.9364],\n",
        "        [9.4077, 1.3319, 9.3460, 5.9358],\n",
        "        [8.6940, 5.6772, 7.4109, 4.2940],\n",
        "        [8.8544, 5.7390, 2.6658, 6.2745]])\n",
        "\n",
        "y =tensor([[1, 0, 0, 0],\n",
        "        [1, 1, 0, 0],\n",
        "        [0, 0, 0, 0],\n",
        "        [0, 0, 0, 1],\n",
        "        [0, 1, 1, 1]])\n"
      ],
      "execution_count": null,
      "outputs": [
        {
          "output_type": "execute_result",
          "data": {
            "text/plain": [
              "tensor([[8.8227, 9.1500, 3.8286, 9.5931],\n",
              "        [3.9045, 6.0090, 2.5657, 7.9364],\n",
              "        [9.4077, 1.3319, 9.3460, 5.9358],\n",
              "        [8.6940, 5.6772, 7.4109, 4.2940],\n",
              "        [8.8544, 5.7390, 2.6658, 6.2745]])"
            ]
          },
          "metadata": {},
          "execution_count": 4
        }
      ]
    },
    {
      "cell_type": "code",
      "metadata": {
        "id": "tFiNNW0Na7bc"
      },
      "source": [
        ""
      ],
      "execution_count": null,
      "outputs": []
    },
    {
      "cell_type": "code",
      "metadata": {
        "colab": {
          "base_uri": "https://localhost:8080/"
        },
        "id": "Id6qyS0ZUNH1",
        "outputId": "55e3cf19-abb3-4503-eaf2-cd7abd0cdd09"
      },
      "source": [
        "y =tensor([[1, 0, 0, 0],\n",
        "        [1, 1, 0, 0],\n",
        "        [0, 0, 0, 0],\n",
        "        [0, 0, 0, 1],\n",
        "        [0, 1, 1, 1]])\n",
        "y"
      ],
      "execution_count": null,
      "outputs": [
        {
          "output_type": "execute_result",
          "data": {
            "text/plain": [
              "tensor([[1, 0, 0, 0],\n",
              "        [1, 1, 0, 0],\n",
              "        [0, 0, 0, 0],\n",
              "        [0, 0, 0, 1],\n",
              "        [0, 1, 1, 1]])"
            ]
          },
          "metadata": {},
          "execution_count": 5
        }
      ]
    },
    {
      "cell_type": "code",
      "metadata": {
        "colab": {
          "base_uri": "https://localhost:8080/"
        },
        "id": "a1GgExBqV7tO",
        "outputId": "c3dfa041-2cfd-4719-fe1d-519d8afde461"
      },
      "source": [
        "sig = sigmoid(multipredsf)\n",
        "sig"
      ],
      "execution_count": null,
      "outputs": [
        {
          "output_type": "execute_result",
          "data": {
            "text/plain": [
              "tensor([[0.9999, 0.9999, 0.9787, 0.9999],\n",
              "        [0.9802, 0.9975, 0.9286, 0.9996],\n",
              "        [0.9999, 0.7912, 0.9999, 0.9974],\n",
              "        [0.9998, 0.9966, 0.9994, 0.9865],\n",
              "        [0.9999, 0.9968, 0.9350, 0.9981]])"
            ]
          },
          "metadata": {},
          "execution_count": 15
        }
      ]
    },
    {
      "cell_type": "code",
      "metadata": {
        "colab": {
          "base_uri": "https://localhost:8080/"
        },
        "id": "kLBh7OyEWbJH",
        "outputId": "a6b672c5-389a-4407-c295-c425f05df164"
      },
      "source": [
        "1-((sigmoid(multipredsf)-y).abs())"
      ],
      "execution_count": null,
      "outputs": [
        {
          "output_type": "execute_result",
          "data": {
            "text/plain": [
              "tensor([[9.9985e-01, 1.0622e-04, 2.1277e-02, 6.8188e-05],\n",
              "        [9.8025e-01, 9.9755e-01, 7.1379e-02, 3.5739e-04],\n",
              "        [8.2135e-05, 2.0885e-01, 8.7261e-05, 2.6361e-03],\n",
              "        [1.6761e-04, 3.4114e-03, 6.0427e-04, 9.8653e-01],\n",
              "        [1.4269e-04, 9.9679e-01, 9.3498e-01, 9.9812e-01]])"
            ]
          },
          "metadata": {},
          "execution_count": 13
        }
      ]
    },
    {
      "cell_type": "code",
      "metadata": {
        "id": "5utGTl_EUnNZ"
      },
      "source": [
        "def multi_l_loss(preds, y):\n",
        "  sig = sigmoid(preds)\n",
        "  dist = (sig-y).abs()\n",
        "  return -np.log(1-dist).mean()\n"
      ],
      "execution_count": null,
      "outputs": []
    },
    {
      "cell_type": "code",
      "metadata": {
        "id": "smdTeVYleT92"
      },
      "source": [
        "def multi_l_accuracy(preds, y, th=0.5):\n",
        "  sig_preds = sigmoid(preds)\n",
        "  bin_conv = (sig_preds>th).float()\n",
        "  return (bin_conv==y).float().mean()"
      ],
      "execution_count": null,
      "outputs": []
    },
    {
      "cell_type": "code",
      "metadata": {
        "id": "KxTYGB2ShtDO"
      },
      "source": [
        ""
      ],
      "execution_count": null,
      "outputs": []
    },
    {
      "cell_type": "code",
      "metadata": {
        "colab": {
          "base_uri": "https://localhost:8080/"
        },
        "id": "23BDgLL5fLay",
        "outputId": "dd3051e6-0d06-4423-c62e-7dc4810d44c6"
      },
      "source": [
        "multi_l_accuracy(multipredsf, y)"
      ],
      "execution_count": null,
      "outputs": [
        {
          "output_type": "execute_result",
          "data": {
            "text/plain": [
              "tensor(0.3500)"
            ]
          },
          "metadata": {},
          "execution_count": 19
        }
      ]
    },
    {
      "cell_type": "code",
      "metadata": {
        "colab": {
          "base_uri": "https://localhost:8080/"
        },
        "id": "ASx_vrvOcybD",
        "outputId": "aedb47a7-8fc8-4f53-be58-f8975e224876"
      },
      "source": [
        "multi_l_loss(multipredsf, y)"
      ],
      "execution_count": null,
      "outputs": [
        {
          "output_type": "execute_result",
          "data": {
            "text/plain": [
              "tensor(4.5089)"
            ]
          },
          "metadata": {},
          "execution_count": 8
        }
      ]
    },
    {
      "cell_type": "code",
      "metadata": {
        "colab": {
          "base_uri": "https://localhost:8080/"
        },
        "id": "qz4FfYY8d0nm",
        "outputId": "c2ead39c-46cb-46c7-ada2-31ced458efcd"
      },
      "source": [
        "y"
      ],
      "execution_count": null,
      "outputs": [
        {
          "output_type": "execute_result",
          "data": {
            "text/plain": [
              "tensor([[1, 0, 0, 0],\n",
              "        [1, 1, 0, 0],\n",
              "        [0, 0, 0, 0],\n",
              "        [0, 0, 0, 1],\n",
              "        [0, 1, 1, 1]])"
            ]
          },
          "metadata": {},
          "execution_count": 13
        }
      ]
    },
    {
      "cell_type": "code",
      "metadata": {
        "colab": {
          "base_uri": "https://localhost:8080/"
        },
        "id": "HGEN67rwdW-V",
        "outputId": "722f37c9-aee0-428a-fa66-ef18cee993c4"
      },
      "source": [
        "(sigmoid(multipredsf)-y).abs()"
      ],
      "execution_count": null,
      "outputs": [
        {
          "output_type": "execute_result",
          "data": {
            "text/plain": [
              "tensor([[1.4734e-04, 9.9989e-01, 9.7872e-01, 9.9993e-01],\n",
              "        [1.9753e-02, 2.4505e-03, 9.2862e-01, 9.9964e-01],\n",
              "        [9.9992e-01, 7.9115e-01, 9.9991e-01, 9.9736e-01],\n",
              "        [9.9983e-01, 9.9659e-01, 9.9940e-01, 1.3466e-02],\n",
              "        [9.9986e-01, 3.2076e-03, 6.5022e-02, 1.8802e-03]])"
            ]
          },
          "metadata": {},
          "execution_count": 12
        }
      ]
    },
    {
      "cell_type": "code",
      "metadata": {
        "colab": {
          "base_uri": "https://localhost:8080/"
        },
        "id": "UdZyrZDedzQ1",
        "outputId": "361064bf-65fc-4485-ca0c-044a0ea4dd8f"
      },
      "source": [
        "(-np.log(1-((sigmoid(multipredsf)-y).abs()))).mean()"
      ],
      "execution_count": null,
      "outputs": [
        {
          "output_type": "execute_result",
          "data": {
            "text/plain": [
              "tensor(4.5089)"
            ]
          },
          "metadata": {},
          "execution_count": 17
        }
      ]
    },
    {
      "cell_type": "code",
      "metadata": {
        "colab": {
          "base_uri": "https://localhost:8080/"
        },
        "id": "8B6qGl-xUnVN",
        "outputId": "0b1d65fc-6e23-4d44-91d9-b0c0c4a0853b"
      },
      "source": [
        "torch.where(y==1, 1-sig, sig)"
      ],
      "execution_count": null,
      "outputs": [
        {
          "output_type": "execute_result",
          "data": {
            "text/plain": [
              "tensor([[1.4734e-04, 9.9989e-01, 9.7872e-01, 9.9993e-01],\n",
              "        [1.9753e-02, 2.4505e-03, 9.2862e-01, 9.9964e-01],\n",
              "        [9.9992e-01, 7.9115e-01, 9.9991e-01, 9.9736e-01],\n",
              "        [9.9983e-01, 9.9659e-01, 9.9940e-01, 1.3466e-02],\n",
              "        [9.9986e-01, 3.2076e-03, 6.5022e-02, 1.8802e-03]])"
            ]
          },
          "metadata": {},
          "execution_count": 16
        }
      ]
    },
    {
      "cell_type": "code",
      "metadata": {
        "colab": {
          "base_uri": "https://localhost:8080/"
        },
        "id": "jWV80_4bUncD",
        "outputId": "f00a4d84-d640-4ed5-d5b4-27456b483ec3"
      },
      "source": [
        "(sigmoid(multipredsf)-y).abs()"
      ],
      "execution_count": null,
      "outputs": [
        {
          "output_type": "execute_result",
          "data": {
            "text/plain": [
              "tensor([[1.4734e-04, 9.9989e-01, 9.7872e-01, 9.9993e-01],\n",
              "        [1.9753e-02, 2.4505e-03, 9.2862e-01, 9.9964e-01],\n",
              "        [9.9992e-01, 7.9115e-01, 9.9991e-01, 9.9736e-01],\n",
              "        [9.9983e-01, 9.9659e-01, 9.9940e-01, 1.3466e-02],\n",
              "        [9.9986e-01, 3.2076e-03, 6.5022e-02, 1.8802e-03]])"
            ]
          },
          "metadata": {},
          "execution_count": 17
        }
      ]
    },
    {
      "cell_type": "code",
      "metadata": {
        "colab": {
          "base_uri": "https://localhost:8080/"
        },
        "id": "i-Ohw4m3SPFH",
        "outputId": "524a737e-d982-47d4-b30b-3e7758ab6bd2"
      },
      "source": [
        "A = tensor([[1, 2, 2, 3], [2,4,8,2]])\n",
        "A"
      ],
      "execution_count": null,
      "outputs": [
        {
          "output_type": "execute_result",
          "data": {
            "text/plain": [
              "tensor([[1, 2, 2, 3],\n",
              "        [2, 4, 8, 2]])"
            ]
          },
          "metadata": {},
          "execution_count": 5
        }
      ]
    },
    {
      "cell_type": "code",
      "metadata": {
        "colab": {
          "base_uri": "https://localhost:8080/"
        },
        "id": "xRMaykDdnz-1",
        "outputId": "b049facd-4e80-4314-80fd-e91d259c558a"
      },
      "source": [
        "1-A\n"
      ],
      "execution_count": null,
      "outputs": [
        {
          "output_type": "execute_result",
          "data": {
            "text/plain": [
              "tensor([[ 0, -1, -1, -2],\n",
              "        [-1, -3, -7, -1]])"
            ]
          },
          "metadata": {},
          "execution_count": 6
        }
      ]
    }
  ]
}